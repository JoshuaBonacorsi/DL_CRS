{
 "cells": [
  {
   "cell_type": "code",
   "execution_count": 3,
   "metadata": {},
   "outputs": [],
   "source": [
    "import torch\n",
    "import torch.nn as nn\n",
    "\n",
    "import pandas as pd\n",
    "import numpy as np\n",
    "\n",
    "from sklearn import model_selection, metrics, preprocessing\n",
    "\n",
    "import matplotlib.pyplot as plt \n",
    "from torch.utils.data import Dataset, DataLoader"
   ]
  },
  {
   "cell_type": "code",
   "execution_count": 5,
   "metadata": {},
   "outputs": [],
   "source": [
    "class DLCRS(nn.Module):\n",
    "\n",
    "    def __init__(self,n_users,n_movies,n_latents):\n",
    "\n",
    "        super().__init__()\n",
    "        \n",
    "        # Latent vectors\n",
    "        self.user_embed = nn.Embedding(num_embeddings=n_users, embedding_dim=n_latents)\n",
    "        self.movie_embed = nn.Embedding(num_embeddings=n_movies, embedding_dim=n_latents)\n",
    "\n",
    "        # Concatenation of latent vectors\n",
    "        self.out = nn.Linear(2*n_latents,1)\n",
    "        \n",
    "    def forward(self, users, movies, ratings=None):\n",
    "\n",
    "        users_embed = self.user_embed(users)\n",
    "        movies_embed = self.movie_embed(movies)\n",
    "        output = torch.cat([users_embed,movies_embed],dim=1)\n",
    "        output = self.out(output)\n",
    "\n",
    "        return(output)"
   ]
  }
 ],
 "metadata": {
  "kernelspec": {
   "display_name": "Python 3",
   "language": "python",
   "name": "python3"
  },
  "language_info": {
   "codemirror_mode": {
    "name": "ipython",
    "version": 3
   },
   "file_extension": ".py",
   "mimetype": "text/x-python",
   "name": "python",
   "nbconvert_exporter": "python",
   "pygments_lexer": "ipython3",
   "version": "3.8.3"
  },
  "orig_nbformat": 4
 },
 "nbformat": 4,
 "nbformat_minor": 2
}
